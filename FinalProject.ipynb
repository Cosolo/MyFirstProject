{
 "cells": [
  {
   "cell_type": "markdown",
   "metadata": {},
   "source": [
    " # 515 K Hotel Reviews Database Analysis"
   ]
  },
  {
   "cell_type": "markdown",
   "metadata": {},
   "source": [
    "## Overview\n",
    "\n",
    "This dataset contains 515,000 customer reviews and scoring of 1493 luxury hotels across Europe.\n",
    "\n",
    "The csv file contains 17 fields. The description of each field is as below:\n",
    "\n",
    "<br>Hotel_Address: Address of hotel.\n",
    "<br>Review_Date: Date when reviewer posted the corresponding review.\n",
    "<br>Average_Score: Average Score of the hotel, calculated based on the latest comment in the last year.\n",
    "<br>Hotel_Name: Name of Hotel\n",
    "<br>Reviewer_Nationality: Nationality of Reviewer\n",
    "<br>Negative_Review: Negative Review the reviewer gave to the hotel. If the reviewer does not give the negative review, then it should be: 'No Negative'\n",
    "<br>Review_Total_Negative_Word_Counts: Total number of words in the negative review.\n",
    "<br>Positive_Review: Positive Review the reviewer gave to the hotel. If the reviewer does not give the negative review, then it should be: 'No Positive'\n",
    "<br>Review_Total_Positive_Word_Counts: Total number of words in the positive review.\n",
    "<br>Reviewer_Score: Score the reviewer has given to the hotel, based on his/her experience\n",
    "<br>Total_Number_of_Reviews_Reviewer_Has_Given: Number of Reviews the reviewers has given in the past.\n",
    "<br>Total_Number_of_Reviews: Total number of valid reviews the hotel has.\n",
    "<br>Tags: Tags reviewer gave the hotel.\n",
    "days_since_review: Duration between the review date and scrape date.\n",
    "<br>Additional_Number_of_Scoring: There are also some guests who just made a scoring on the service rather than a review. This number indicates how many valid scores without review in there.\n",
    "<br>lat: Latitude of the hotel\n",
    "<br>lng: longtitude of the hotel"
   ]
  },
  {
   "cell_type": "markdown",
   "metadata": {},
   "source": [
    "### Import from MS SQL"
   ]
  },
  {
   "cell_type": "code",
   "execution_count": 1,
   "metadata": {},
   "outputs": [],
   "source": [
    "import pandas as pd\n",
    "import matplotlib.pyplot as plt\n",
    "import numpy as np\n",
    "\n",
    "import pyodbc \n",
    "cnxn = pyodbc.connect('Driver={SQL Server};'\n",
    "                      'Server=IVAN-PC\\SQLEXPRESS;'\n",
    "                      'Database=HotelReviews;'\n",
    "                      'Trusted_Connection=yes;')\n",
    "\n"
   ]
  },
  {
   "cell_type": "code",
   "execution_count": 2,
   "metadata": {
    "scrolled": true
   },
   "outputs": [
    {
     "data": {
      "text/html": [
       "<div>\n",
       "<style scoped>\n",
       "    .dataframe tbody tr th:only-of-type {\n",
       "        vertical-align: middle;\n",
       "    }\n",
       "\n",
       "    .dataframe tbody tr th {\n",
       "        vertical-align: top;\n",
       "    }\n",
       "\n",
       "    .dataframe thead th {\n",
       "        text-align: right;\n",
       "    }\n",
       "</style>\n",
       "<table border=\"1\" class=\"dataframe\">\n",
       "  <thead>\n",
       "    <tr style=\"text-align: right;\">\n",
       "      <th></th>\n",
       "      <th>Hotel_Address</th>\n",
       "      <th>Additional_Number_of_Scoring</th>\n",
       "      <th>Review_Date</th>\n",
       "      <th>Average_Score</th>\n",
       "      <th>Hotel_Name</th>\n",
       "      <th>Reviewer_Nationality</th>\n",
       "      <th>Negative_Review</th>\n",
       "      <th>Review_Total_Negative_Word_Counts</th>\n",
       "      <th>Total_Number_of_Reviews</th>\n",
       "      <th>Positive_Review</th>\n",
       "      <th>Review_Total_Positive_Word_Counts</th>\n",
       "      <th>Total_Number_of_Reviews_Reviewer_Has_Given</th>\n",
       "      <th>Reviewer_Score</th>\n",
       "      <th>Tags</th>\n",
       "      <th>days_since_review</th>\n",
       "      <th>lat</th>\n",
       "      <th>lng</th>\n",
       "    </tr>\n",
       "  </thead>\n",
       "  <tbody>\n",
       "    <tr>\n",
       "      <th>0</th>\n",
       "      <td>1 Addington Street Lambeth London SE1 7RY Unit...</td>\n",
       "      <td>1322</td>\n",
       "      <td>2016-08-31</td>\n",
       "      <td>8.4</td>\n",
       "      <td>Park Plaza County Hall London</td>\n",
       "      <td>United Kingdom</td>\n",
       "      <td>No Negative</td>\n",
       "      <td>0</td>\n",
       "      <td>6117</td>\n",
       "      <td>Very clean and central hotel heart of London ...</td>\n",
       "      <td>19</td>\n",
       "      <td>3</td>\n",
       "      <td>9.2</td>\n",
       "      <td>\"[' Leisure trip '</td>\n",
       "      <td>' Family with young children '</td>\n",
       "      <td>' 2 rooms '</td>\n",
       "      <td>' Stayed 2 nights ', ' Submitted from a mobil...</td>\n",
       "    </tr>\n",
       "    <tr>\n",
       "      <th>1</th>\n",
       "      <td>1 Addington Street Lambeth London SE1 7RY Unit...</td>\n",
       "      <td>1322</td>\n",
       "      <td>2016-08-31</td>\n",
       "      <td>8.4</td>\n",
       "      <td>Park Plaza County Hall London</td>\n",
       "      <td>United Kingdom</td>\n",
       "      <td>In our first room the sofa bed was broken but...</td>\n",
       "      <td>18</td>\n",
       "      <td>6117</td>\n",
       "      <td>Excellent customer service Rooms are very nice</td>\n",
       "      <td>9</td>\n",
       "      <td>2</td>\n",
       "      <td>9.6</td>\n",
       "      <td>\"[' Leisure trip '</td>\n",
       "      <td>' Family with young children '</td>\n",
       "      <td>' Studio Double Family '</td>\n",
       "      <td>' Stayed 1 night ', ' Submitted from a mobile...</td>\n",
       "    </tr>\n",
       "    <tr>\n",
       "      <th>2</th>\n",
       "      <td>1 Addington Street Lambeth London SE1 7RY Unit...</td>\n",
       "      <td>1322</td>\n",
       "      <td>2016-08-31</td>\n",
       "      <td>8.4</td>\n",
       "      <td>Park Plaza County Hall London</td>\n",
       "      <td>Kuwait</td>\n",
       "      <td>Breakfast very stressful experience</td>\n",
       "      <td>5</td>\n",
       "      <td>6117</td>\n",
       "      <td>Great location</td>\n",
       "      <td>3</td>\n",
       "      <td>1</td>\n",
       "      <td>7.5</td>\n",
       "      <td>\"[' Leisure trip '</td>\n",
       "      <td>' Couple '</td>\n",
       "      <td>' Studio Double Family '</td>\n",
       "      <td>' Stayed 4 nights ', ' Submitted from a mobil...</td>\n",
       "    </tr>\n",
       "    <tr>\n",
       "      <th>3</th>\n",
       "      <td>1 Addington Street Lambeth London SE1 7RY Unit...</td>\n",
       "      <td>1322</td>\n",
       "      <td>2016-08-31</td>\n",
       "      <td>8.4</td>\n",
       "      <td>Park Plaza County Hall London</td>\n",
       "      <td>United Kingdom</td>\n",
       "      <td>No Negative</td>\n",
       "      <td>0</td>\n",
       "      <td>6117</td>\n",
       "      <td>staff very helpfull and friendly got upgrade ...</td>\n",
       "      <td>16</td>\n",
       "      <td>1</td>\n",
       "      <td>10.0</td>\n",
       "      <td>\"[' Leisure trip '</td>\n",
       "      <td>' Family with older children '</td>\n",
       "      <td>' Superior Twin Room '</td>\n",
       "      <td>' Stayed 1 night ']\",337 day,51.5014001,-0.11...</td>\n",
       "    </tr>\n",
       "    <tr>\n",
       "      <th>4</th>\n",
       "      <td>1 Addington Street Lambeth London SE1 7RY Unit...</td>\n",
       "      <td>1322</td>\n",
       "      <td>2016-08-30</td>\n",
       "      <td>8.4</td>\n",
       "      <td>Park Plaza County Hall London</td>\n",
       "      <td>United Kingdom</td>\n",
       "      <td>Asked for quiet room however we were next to ...</td>\n",
       "      <td>17</td>\n",
       "      <td>6117</td>\n",
       "      <td>Location</td>\n",
       "      <td>2</td>\n",
       "      <td>1</td>\n",
       "      <td>6.7</td>\n",
       "      <td>\"[' Leisure trip '</td>\n",
       "      <td>' Group '</td>\n",
       "      <td>' Studio Double Room '</td>\n",
       "      <td>' Stayed 1 night ', ' Submitted from a mobile...</td>\n",
       "    </tr>\n",
       "  </tbody>\n",
       "</table>\n",
       "</div>"
      ],
      "text/plain": [
       "                                       Hotel_Address  \\\n",
       "0  1 Addington Street Lambeth London SE1 7RY Unit...   \n",
       "1  1 Addington Street Lambeth London SE1 7RY Unit...   \n",
       "2  1 Addington Street Lambeth London SE1 7RY Unit...   \n",
       "3  1 Addington Street Lambeth London SE1 7RY Unit...   \n",
       "4  1 Addington Street Lambeth London SE1 7RY Unit...   \n",
       "\n",
       "   Additional_Number_of_Scoring Review_Date  Average_Score  \\\n",
       "0                          1322  2016-08-31            8.4   \n",
       "1                          1322  2016-08-31            8.4   \n",
       "2                          1322  2016-08-31            8.4   \n",
       "3                          1322  2016-08-31            8.4   \n",
       "4                          1322  2016-08-30            8.4   \n",
       "\n",
       "                      Hotel_Name Reviewer_Nationality  \\\n",
       "0  Park Plaza County Hall London      United Kingdom    \n",
       "1  Park Plaza County Hall London      United Kingdom    \n",
       "2  Park Plaza County Hall London              Kuwait    \n",
       "3  Park Plaza County Hall London      United Kingdom    \n",
       "4  Park Plaza County Hall London      United Kingdom    \n",
       "\n",
       "                                     Negative_Review  \\\n",
       "0                                        No Negative   \n",
       "1   In our first room the sofa bed was broken but...   \n",
       "2                Breakfast very stressful experience   \n",
       "3                                        No Negative   \n",
       "4   Asked for quiet room however we were next to ...   \n",
       "\n",
       "   Review_Total_Negative_Word_Counts  Total_Number_of_Reviews  \\\n",
       "0                                  0                     6117   \n",
       "1                                 18                     6117   \n",
       "2                                  5                     6117   \n",
       "3                                  0                     6117   \n",
       "4                                 17                     6117   \n",
       "\n",
       "                                     Positive_Review  \\\n",
       "0   Very clean and central hotel heart of London ...   \n",
       "1    Excellent customer service Rooms are very nice    \n",
       "2                                     Great location   \n",
       "3   staff very helpfull and friendly got upgrade ...   \n",
       "4                                           Location   \n",
       "\n",
       "   Review_Total_Positive_Word_Counts  \\\n",
       "0                                 19   \n",
       "1                                  9   \n",
       "2                                  3   \n",
       "3                                 16   \n",
       "4                                  2   \n",
       "\n",
       "   Total_Number_of_Reviews_Reviewer_Has_Given  Reviewer_Score  \\\n",
       "0                                           3             9.2   \n",
       "1                                           2             9.6   \n",
       "2                                           1             7.5   \n",
       "3                                           1            10.0   \n",
       "4                                           1             6.7   \n",
       "\n",
       "                 Tags                days_since_review  \\\n",
       "0  \"[' Leisure trip '   ' Family with young children '   \n",
       "1  \"[' Leisure trip '   ' Family with young children '   \n",
       "2  \"[' Leisure trip '                       ' Couple '   \n",
       "3  \"[' Leisure trip '   ' Family with older children '   \n",
       "4  \"[' Leisure trip '                        ' Group '   \n",
       "\n",
       "                         lat  \\\n",
       "0                ' 2 rooms '   \n",
       "1   ' Studio Double Family '   \n",
       "2   ' Studio Double Family '   \n",
       "3     ' Superior Twin Room '   \n",
       "4     ' Studio Double Room '   \n",
       "\n",
       "                                                 lng  \n",
       "0   ' Stayed 2 nights ', ' Submitted from a mobil...  \n",
       "1   ' Stayed 1 night ', ' Submitted from a mobile...  \n",
       "2   ' Stayed 4 nights ', ' Submitted from a mobil...  \n",
       "3   ' Stayed 1 night ']\",337 day,51.5014001,-0.11...  \n",
       "4   ' Stayed 1 night ', ' Submitted from a mobile...  "
      ]
     },
     "execution_count": 2,
     "metadata": {},
     "output_type": "execute_result"
    }
   ],
   "source": [
    "query = 'SELECT * FROM dbo.Hotel_Reviews'\n",
    "\n",
    "df = pd.read_sql(query, cnxn)\n",
    "\n",
    "df.head()"
   ]
  },
  {
   "cell_type": "code",
   "execution_count": 3,
   "metadata": {},
   "outputs": [
    {
     "data": {
      "text/plain": [
       "515738"
      ]
     },
     "execution_count": 3,
     "metadata": {},
     "output_type": "execute_result"
    }
   ],
   "source": [
    "# Number of reviews\n",
    "len(df)"
   ]
  },
  {
   "cell_type": "markdown",
   "metadata": {},
   "source": [
    "### Data Cleaning"
   ]
  },
  {
   "cell_type": "code",
   "execution_count": 4,
   "metadata": {},
   "outputs": [
    {
     "name": "stdout",
     "output_type": "stream",
     "text": [
      "526\n",
      "After removing Duplicates: (515212, 17)\n"
     ]
    }
   ],
   "source": [
    "# Removing duplicates from the dataset\n",
    "print(sum(df.duplicated()))\n",
    "df = df.drop_duplicates()\n",
    "print('After removing Duplicates: {}'.format(df.shape))"
   ]
  },
  {
   "cell_type": "code",
   "execution_count": 5,
   "metadata": {},
   "outputs": [
    {
     "name": "stdout",
     "output_type": "stream",
     "text": [
      "[' United Kingdom ' ' United Kingdom ' ' Kuwait ' ... ' Bulgaria '\n",
      " ' Russia ' ' United Kingdom ']\n"
     ]
    }
   ],
   "source": [
    "# Removing blank spaces, they were causing trouble later (nationalities of interest)\n",
    "print(df.Reviewer_Nationality.values)\n",
    "\n",
    "df.Reviewer_Nationality = df.Reviewer_Nationality.str.strip() "
   ]
  },
  {
   "cell_type": "code",
   "execution_count": 6,
   "metadata": {},
   "outputs": [],
   "source": [
    "# New column with hotel countries, taken from: https://www.kaggle.com/ollief/quick-analysis-of-effects-on-score\n",
    "def country_column(st):\n",
    "    last = st.split()[-1]\n",
    "    if last == \"Kingdom\": return \"United Kingdom\"\n",
    "    else: return last\n",
    "    \n",
    "df[\"Hotel_Country\"] = df[\"Hotel_Address\"].apply(country_column)"
   ]
  },
  {
   "cell_type": "code",
   "execution_count": 7,
   "metadata": {},
   "outputs": [
    {
     "data": {
      "text/html": [
       "<div>\n",
       "<style scoped>\n",
       "    .dataframe tbody tr th:only-of-type {\n",
       "        vertical-align: middle;\n",
       "    }\n",
       "\n",
       "    .dataframe tbody tr th {\n",
       "        vertical-align: top;\n",
       "    }\n",
       "\n",
       "    .dataframe thead th {\n",
       "        text-align: right;\n",
       "    }\n",
       "</style>\n",
       "<table border=\"1\" class=\"dataframe\">\n",
       "  <thead>\n",
       "    <tr style=\"text-align: right;\">\n",
       "      <th></th>\n",
       "      <th>Hotel_Address</th>\n",
       "      <th>Additional_Number_of_Scoring</th>\n",
       "      <th>Review_Date</th>\n",
       "      <th>Average_Score</th>\n",
       "      <th>Hotel_Name</th>\n",
       "      <th>Reviewer_Nationality</th>\n",
       "      <th>Negative_Review</th>\n",
       "      <th>Review_Total_Negative_Word_Counts</th>\n",
       "      <th>Total_Number_of_Reviews</th>\n",
       "      <th>Positive_Review</th>\n",
       "      <th>Review_Total_Positive_Word_Counts</th>\n",
       "      <th>Total_Number_of_Reviews_Reviewer_Has_Given</th>\n",
       "      <th>Reviewer_Score</th>\n",
       "      <th>Tags</th>\n",
       "      <th>days_since_review</th>\n",
       "      <th>lat</th>\n",
       "      <th>lng</th>\n",
       "      <th>Hotel_Country</th>\n",
       "    </tr>\n",
       "  </thead>\n",
       "  <tbody>\n",
       "    <tr>\n",
       "      <th>0</th>\n",
       "      <td>1 Addington Street Lambeth London SE1 7RY Unit...</td>\n",
       "      <td>1322</td>\n",
       "      <td>2016-08-31</td>\n",
       "      <td>8.4</td>\n",
       "      <td>Park Plaza County Hall London</td>\n",
       "      <td>United Kingdom</td>\n",
       "      <td>No Negative</td>\n",
       "      <td>0</td>\n",
       "      <td>6117</td>\n",
       "      <td>Very clean and central hotel heart of London ...</td>\n",
       "      <td>19</td>\n",
       "      <td>3</td>\n",
       "      <td>9.2</td>\n",
       "      <td>\"[' Leisure trip '</td>\n",
       "      <td>' Family with young children '</td>\n",
       "      <td>' 2 rooms '</td>\n",
       "      <td>' Stayed 2 nights ', ' Submitted from a mobil...</td>\n",
       "      <td>United Kingdom</td>\n",
       "    </tr>\n",
       "    <tr>\n",
       "      <th>1</th>\n",
       "      <td>1 Addington Street Lambeth London SE1 7RY Unit...</td>\n",
       "      <td>1322</td>\n",
       "      <td>2016-08-31</td>\n",
       "      <td>8.4</td>\n",
       "      <td>Park Plaza County Hall London</td>\n",
       "      <td>United Kingdom</td>\n",
       "      <td>In our first room the sofa bed was broken but...</td>\n",
       "      <td>18</td>\n",
       "      <td>6117</td>\n",
       "      <td>Excellent customer service Rooms are very nice</td>\n",
       "      <td>9</td>\n",
       "      <td>2</td>\n",
       "      <td>9.6</td>\n",
       "      <td>\"[' Leisure trip '</td>\n",
       "      <td>' Family with young children '</td>\n",
       "      <td>' Studio Double Family '</td>\n",
       "      <td>' Stayed 1 night ', ' Submitted from a mobile...</td>\n",
       "      <td>United Kingdom</td>\n",
       "    </tr>\n",
       "    <tr>\n",
       "      <th>2</th>\n",
       "      <td>1 Addington Street Lambeth London SE1 7RY Unit...</td>\n",
       "      <td>1322</td>\n",
       "      <td>2016-08-31</td>\n",
       "      <td>8.4</td>\n",
       "      <td>Park Plaza County Hall London</td>\n",
       "      <td>Kuwait</td>\n",
       "      <td>Breakfast very stressful experience</td>\n",
       "      <td>5</td>\n",
       "      <td>6117</td>\n",
       "      <td>Great location</td>\n",
       "      <td>3</td>\n",
       "      <td>1</td>\n",
       "      <td>7.5</td>\n",
       "      <td>\"[' Leisure trip '</td>\n",
       "      <td>' Couple '</td>\n",
       "      <td>' Studio Double Family '</td>\n",
       "      <td>' Stayed 4 nights ', ' Submitted from a mobil...</td>\n",
       "      <td>United Kingdom</td>\n",
       "    </tr>\n",
       "    <tr>\n",
       "      <th>3</th>\n",
       "      <td>1 Addington Street Lambeth London SE1 7RY Unit...</td>\n",
       "      <td>1322</td>\n",
       "      <td>2016-08-31</td>\n",
       "      <td>8.4</td>\n",
       "      <td>Park Plaza County Hall London</td>\n",
       "      <td>United Kingdom</td>\n",
       "      <td>No Negative</td>\n",
       "      <td>0</td>\n",
       "      <td>6117</td>\n",
       "      <td>staff very helpfull and friendly got upgrade ...</td>\n",
       "      <td>16</td>\n",
       "      <td>1</td>\n",
       "      <td>10.0</td>\n",
       "      <td>\"[' Leisure trip '</td>\n",
       "      <td>' Family with older children '</td>\n",
       "      <td>' Superior Twin Room '</td>\n",
       "      <td>' Stayed 1 night ']\",337 day,51.5014001,-0.11...</td>\n",
       "      <td>United Kingdom</td>\n",
       "    </tr>\n",
       "    <tr>\n",
       "      <th>4</th>\n",
       "      <td>1 Addington Street Lambeth London SE1 7RY Unit...</td>\n",
       "      <td>1322</td>\n",
       "      <td>2016-08-30</td>\n",
       "      <td>8.4</td>\n",
       "      <td>Park Plaza County Hall London</td>\n",
       "      <td>United Kingdom</td>\n",
       "      <td>Asked for quiet room however we were next to ...</td>\n",
       "      <td>17</td>\n",
       "      <td>6117</td>\n",
       "      <td>Location</td>\n",
       "      <td>2</td>\n",
       "      <td>1</td>\n",
       "      <td>6.7</td>\n",
       "      <td>\"[' Leisure trip '</td>\n",
       "      <td>' Group '</td>\n",
       "      <td>' Studio Double Room '</td>\n",
       "      <td>' Stayed 1 night ', ' Submitted from a mobile...</td>\n",
       "      <td>United Kingdom</td>\n",
       "    </tr>\n",
       "  </tbody>\n",
       "</table>\n",
       "</div>"
      ],
      "text/plain": [
       "                                       Hotel_Address  \\\n",
       "0  1 Addington Street Lambeth London SE1 7RY Unit...   \n",
       "1  1 Addington Street Lambeth London SE1 7RY Unit...   \n",
       "2  1 Addington Street Lambeth London SE1 7RY Unit...   \n",
       "3  1 Addington Street Lambeth London SE1 7RY Unit...   \n",
       "4  1 Addington Street Lambeth London SE1 7RY Unit...   \n",
       "\n",
       "   Additional_Number_of_Scoring Review_Date  Average_Score  \\\n",
       "0                          1322  2016-08-31            8.4   \n",
       "1                          1322  2016-08-31            8.4   \n",
       "2                          1322  2016-08-31            8.4   \n",
       "3                          1322  2016-08-31            8.4   \n",
       "4                          1322  2016-08-30            8.4   \n",
       "\n",
       "                      Hotel_Name Reviewer_Nationality  \\\n",
       "0  Park Plaza County Hall London       United Kingdom   \n",
       "1  Park Plaza County Hall London       United Kingdom   \n",
       "2  Park Plaza County Hall London               Kuwait   \n",
       "3  Park Plaza County Hall London       United Kingdom   \n",
       "4  Park Plaza County Hall London       United Kingdom   \n",
       "\n",
       "                                     Negative_Review  \\\n",
       "0                                        No Negative   \n",
       "1   In our first room the sofa bed was broken but...   \n",
       "2                Breakfast very stressful experience   \n",
       "3                                        No Negative   \n",
       "4   Asked for quiet room however we were next to ...   \n",
       "\n",
       "   Review_Total_Negative_Word_Counts  Total_Number_of_Reviews  \\\n",
       "0                                  0                     6117   \n",
       "1                                 18                     6117   \n",
       "2                                  5                     6117   \n",
       "3                                  0                     6117   \n",
       "4                                 17                     6117   \n",
       "\n",
       "                                     Positive_Review  \\\n",
       "0   Very clean and central hotel heart of London ...   \n",
       "1    Excellent customer service Rooms are very nice    \n",
       "2                                     Great location   \n",
       "3   staff very helpfull and friendly got upgrade ...   \n",
       "4                                           Location   \n",
       "\n",
       "   Review_Total_Positive_Word_Counts  \\\n",
       "0                                 19   \n",
       "1                                  9   \n",
       "2                                  3   \n",
       "3                                 16   \n",
       "4                                  2   \n",
       "\n",
       "   Total_Number_of_Reviews_Reviewer_Has_Given  Reviewer_Score  \\\n",
       "0                                           3             9.2   \n",
       "1                                           2             9.6   \n",
       "2                                           1             7.5   \n",
       "3                                           1            10.0   \n",
       "4                                           1             6.7   \n",
       "\n",
       "                 Tags                days_since_review  \\\n",
       "0  \"[' Leisure trip '   ' Family with young children '   \n",
       "1  \"[' Leisure trip '   ' Family with young children '   \n",
       "2  \"[' Leisure trip '                       ' Couple '   \n",
       "3  \"[' Leisure trip '   ' Family with older children '   \n",
       "4  \"[' Leisure trip '                        ' Group '   \n",
       "\n",
       "                         lat  \\\n",
       "0                ' 2 rooms '   \n",
       "1   ' Studio Double Family '   \n",
       "2   ' Studio Double Family '   \n",
       "3     ' Superior Twin Room '   \n",
       "4     ' Studio Double Room '   \n",
       "\n",
       "                                                 lng   Hotel_Country  \n",
       "0   ' Stayed 2 nights ', ' Submitted from a mobil...  United Kingdom  \n",
       "1   ' Stayed 1 night ', ' Submitted from a mobile...  United Kingdom  \n",
       "2   ' Stayed 4 nights ', ' Submitted from a mobil...  United Kingdom  \n",
       "3   ' Stayed 1 night ']\",337 day,51.5014001,-0.11...  United Kingdom  \n",
       "4   ' Stayed 1 night ', ' Submitted from a mobile...  United Kingdom  "
      ]
     },
     "execution_count": 7,
     "metadata": {},
     "output_type": "execute_result"
    }
   ],
   "source": [
    "# View first five rows of the table with an added column \"Hotel Country\"\n",
    "df.head()"
   ]
  },
  {
   "cell_type": "code",
   "execution_count": 8,
   "metadata": {},
   "outputs": [
    {
     "name": "stdout",
     "output_type": "stream",
     "text": [
      "Hotel_Address\n",
      "Additional_Number_of_Scoring\n",
      "Review_Date\n",
      "Average_Score\n",
      "Hotel_Name\n",
      "Reviewer_Nationality\n",
      "Negative_Review\n",
      "Review_Total_Negative_Word_Counts\n",
      "Total_Number_of_Reviews\n",
      "Positive_Review\n",
      "Review_Total_Positive_Word_Counts\n",
      "Total_Number_of_Reviews_Reviewer_Has_Given\n",
      "Reviewer_Score\n",
      "Tags\n",
      "days_since_review\n",
      "lat\n",
      "lng\n",
      "Hotel_Country\n"
     ]
    }
   ],
   "source": [
    "# display all columns after adding \"Hotel_Country\" column\n",
    "for x in df.columns:\n",
    "    print(x)"
   ]
  },
  {
   "cell_type": "markdown",
   "metadata": {},
   "source": [
    "### General descriptive statistics"
   ]
  },
  {
   "cell_type": "code",
   "execution_count": 9,
   "metadata": {
    "scrolled": false
   },
   "outputs": [
    {
     "data": {
      "text/html": [
       "<div>\n",
       "<style scoped>\n",
       "    .dataframe tbody tr th:only-of-type {\n",
       "        vertical-align: middle;\n",
       "    }\n",
       "\n",
       "    .dataframe tbody tr th {\n",
       "        vertical-align: top;\n",
       "    }\n",
       "\n",
       "    .dataframe thead th {\n",
       "        text-align: right;\n",
       "    }\n",
       "</style>\n",
       "<table border=\"1\" class=\"dataframe\">\n",
       "  <thead>\n",
       "    <tr style=\"text-align: right;\">\n",
       "      <th></th>\n",
       "      <th>Additional_Number_of_Scoring</th>\n",
       "      <th>Average_Score</th>\n",
       "      <th>Review_Total_Negative_Word_Counts</th>\n",
       "      <th>Total_Number_of_Reviews</th>\n",
       "      <th>Review_Total_Positive_Word_Counts</th>\n",
       "      <th>Total_Number_of_Reviews_Reviewer_Has_Given</th>\n",
       "      <th>Reviewer_Score</th>\n",
       "    </tr>\n",
       "  </thead>\n",
       "  <tbody>\n",
       "    <tr>\n",
       "      <th>count</th>\n",
       "      <td>515212.000000</td>\n",
       "      <td>515212.000000</td>\n",
       "      <td>515212.000000</td>\n",
       "      <td>515212.000000</td>\n",
       "      <td>515212.000000</td>\n",
       "      <td>515212.000000</td>\n",
       "      <td>515212.000000</td>\n",
       "    </tr>\n",
       "    <tr>\n",
       "      <th>mean</th>\n",
       "      <td>498.416021</td>\n",
       "      <td>8.397767</td>\n",
       "      <td>18.540822</td>\n",
       "      <td>2744.698889</td>\n",
       "      <td>17.778256</td>\n",
       "      <td>7.164895</td>\n",
       "      <td>8.395532</td>\n",
       "    </tr>\n",
       "    <tr>\n",
       "      <th>std</th>\n",
       "      <td>500.668595</td>\n",
       "      <td>0.547952</td>\n",
       "      <td>29.693991</td>\n",
       "      <td>2318.090821</td>\n",
       "      <td>21.804541</td>\n",
       "      <td>11.039354</td>\n",
       "      <td>1.637467</td>\n",
       "    </tr>\n",
       "    <tr>\n",
       "      <th>min</th>\n",
       "      <td>1.000000</td>\n",
       "      <td>5.200000</td>\n",
       "      <td>0.000000</td>\n",
       "      <td>43.000000</td>\n",
       "      <td>0.000000</td>\n",
       "      <td>1.000000</td>\n",
       "      <td>2.500000</td>\n",
       "    </tr>\n",
       "    <tr>\n",
       "      <th>25%</th>\n",
       "      <td>169.000000</td>\n",
       "      <td>8.100000</td>\n",
       "      <td>2.000000</td>\n",
       "      <td>1161.000000</td>\n",
       "      <td>5.000000</td>\n",
       "      <td>1.000000</td>\n",
       "      <td>7.500000</td>\n",
       "    </tr>\n",
       "    <tr>\n",
       "      <th>50%</th>\n",
       "      <td>342.000000</td>\n",
       "      <td>8.400000</td>\n",
       "      <td>9.000000</td>\n",
       "      <td>2134.000000</td>\n",
       "      <td>11.000000</td>\n",
       "      <td>3.000000</td>\n",
       "      <td>8.800000</td>\n",
       "    </tr>\n",
       "    <tr>\n",
       "      <th>75%</th>\n",
       "      <td>660.000000</td>\n",
       "      <td>8.800000</td>\n",
       "      <td>23.000000</td>\n",
       "      <td>3633.000000</td>\n",
       "      <td>22.000000</td>\n",
       "      <td>8.000000</td>\n",
       "      <td>9.600000</td>\n",
       "    </tr>\n",
       "    <tr>\n",
       "      <th>max</th>\n",
       "      <td>2682.000000</td>\n",
       "      <td>9.800000</td>\n",
       "      <td>408.000000</td>\n",
       "      <td>16670.000000</td>\n",
       "      <td>395.000000</td>\n",
       "      <td>355.000000</td>\n",
       "      <td>10.000000</td>\n",
       "    </tr>\n",
       "  </tbody>\n",
       "</table>\n",
       "</div>"
      ],
      "text/plain": [
       "       Additional_Number_of_Scoring  Average_Score  \\\n",
       "count                 515212.000000  515212.000000   \n",
       "mean                     498.416021       8.397767   \n",
       "std                      500.668595       0.547952   \n",
       "min                        1.000000       5.200000   \n",
       "25%                      169.000000       8.100000   \n",
       "50%                      342.000000       8.400000   \n",
       "75%                      660.000000       8.800000   \n",
       "max                     2682.000000       9.800000   \n",
       "\n",
       "       Review_Total_Negative_Word_Counts  Total_Number_of_Reviews  \\\n",
       "count                      515212.000000            515212.000000   \n",
       "mean                           18.540822              2744.698889   \n",
       "std                            29.693991              2318.090821   \n",
       "min                             0.000000                43.000000   \n",
       "25%                             2.000000              1161.000000   \n",
       "50%                             9.000000              2134.000000   \n",
       "75%                            23.000000              3633.000000   \n",
       "max                           408.000000             16670.000000   \n",
       "\n",
       "       Review_Total_Positive_Word_Counts  \\\n",
       "count                      515212.000000   \n",
       "mean                           17.778256   \n",
       "std                            21.804541   \n",
       "min                             0.000000   \n",
       "25%                             5.000000   \n",
       "50%                            11.000000   \n",
       "75%                            22.000000   \n",
       "max                           395.000000   \n",
       "\n",
       "       Total_Number_of_Reviews_Reviewer_Has_Given  Reviewer_Score  \n",
       "count                               515212.000000   515212.000000  \n",
       "mean                                     7.164895        8.395532  \n",
       "std                                     11.039354        1.637467  \n",
       "min                                      1.000000        2.500000  \n",
       "25%                                      1.000000        7.500000  \n",
       "50%                                      3.000000        8.800000  \n",
       "75%                                      8.000000        9.600000  \n",
       "max                                    355.000000       10.000000  "
      ]
     },
     "execution_count": 9,
     "metadata": {},
     "output_type": "execute_result"
    }
   ],
   "source": [
    "df.describe()"
   ]
  },
  {
   "cell_type": "markdown",
   "metadata": {},
   "source": [
    "### 10 Nationalities that gave most reviews"
   ]
  },
  {
   "cell_type": "code",
   "execution_count": 10,
   "metadata": {},
   "outputs": [
    {
     "name": "stdout",
     "output_type": "stream",
     "text": [
      "10 Nationalities with most given reviews:\n"
     ]
    },
    {
     "data": {
      "text/plain": [
       "United Kingdom              245110\n",
       "United States of America     35349\n",
       "Australia                    21648\n",
       "Ireland                      14814\n",
       "United Arab Emirates         10229\n",
       "Saudi Arabia                  8940\n",
       "Netherlands                   8757\n",
       "Switzerland                   8669\n",
       "Germany                       7929\n",
       "Canada                        7883\n",
       "Name: Reviewer_Nationality, dtype: int64"
      ]
     },
     "execution_count": 10,
     "metadata": {},
     "output_type": "execute_result"
    }
   ],
   "source": [
    "print(\"10 Nationalities with most given reviews:\")\n",
    "\n",
    "df.Reviewer_Nationality.value_counts()[:10] "
   ]
  },
  {
   "cell_type": "markdown",
   "metadata": {},
   "source": [
    "### 10 most reviewed Hotels"
   ]
  },
  {
   "cell_type": "code",
   "execution_count": 11,
   "metadata": {
    "scrolled": true
   },
   "outputs": [
    {
     "name": "stdout",
     "output_type": "stream",
     "text": [
      "10 most reviewed Hotels:\n"
     ]
    },
    {
     "data": {
      "text/plain": [
       "Britannia International Hotel Canary Wharf           4789\n",
       "Strand Palace Hotel                                  4256\n",
       "Park Plaza Westminster Bridge London                 4169\n",
       "Copthorne Tara Hotel London Kensington               3577\n",
       "DoubleTree by Hilton Hotel London Tower of London    3212\n",
       "Grand Royale London Hyde Park                        2958\n",
       "Holiday Inn London Kensington                        2768\n",
       "Hilton London Metropole                              2628\n",
       "Millennium Gloucester Hotel London                   2565\n",
       "Intercontinental London The O2                       2551\n",
       "Name: Hotel_Name, dtype: int64"
      ]
     },
     "execution_count": 11,
     "metadata": {},
     "output_type": "execute_result"
    }
   ],
   "source": [
    "print(\"10 most reviewed Hotels:\")\n",
    "\n",
    "df.Hotel_Name.value_counts()[:10]"
   ]
  },
  {
   "cell_type": "code",
   "execution_count": 12,
   "metadata": {
    "scrolled": false
   },
   "outputs": [
    {
     "data": {
      "text/plain": [
       "<matplotlib.axes._subplots.AxesSubplot at 0x27fa5d65780>"
      ]
     },
     "execution_count": 12,
     "metadata": {},
     "output_type": "execute_result"
    },
    {
     "data": {
      "image/png": "[encoded data removed]",
      "text/plain": [
       "<matplotlib.figure.Figure at 0x27fa5d65358>"
      ]
     },
     "metadata": {},
     "output_type": "display_data"
    }
   ],
   "source": [
    "df.Hotel_Name.value_counts()[:10].plot.barh(title = \"10 Most Reviewed Hotels\")"
   ]
  },
  {
   "cell_type": "markdown",
   "metadata": {},
   "source": [
    "### 10 best Hotels by Reviewer Score"
   ]
  },
  {
   "cell_type": "code",
   "execution_count": 13,
   "metadata": {
    "scrolled": false
   },
   "outputs": [
    {
     "data": {
      "text/plain": [
       "Hotel_Name\n",
       "Ritz Paris                             9.725000\n",
       "Hotel Casa Camper                      9.718937\n",
       "41                                     9.711651\n",
       "H tel de La Tamise Esprit de France    9.688525\n",
       "Le Narcisse Blanc Spa                  9.671930\n",
       "H10 Casa Mimosa 4 Sup                  9.660345\n",
       "Hotel Eiffel Blomet                    9.646667\n",
       "Hotel The Serras                       9.623474\n",
       "45 Park Lane Dorchester Collection     9.603572\n",
       "The Soho Hotel                         9.597452\n",
       "Name: Reviewer_Score, dtype: float64"
      ]
     },
     "execution_count": 13,
     "metadata": {},
     "output_type": "execute_result"
    }
   ],
   "source": [
    "df.groupby(\"Hotel_Name\")['Reviewer_Score'].mean().sort_values(ascending=False)[:10]"
   ]
  },
  {
   "cell_type": "markdown",
   "metadata": {},
   "source": [
    "### Filtering positive and negative reviews"
   ]
  },
  {
   "cell_type": "code",
   "execution_count": 14,
   "metadata": {},
   "outputs": [
    {
     "data": {
      "text/plain": [
       "515212"
      ]
     },
     "execution_count": 14,
     "metadata": {},
     "output_type": "execute_result"
    }
   ],
   "source": [
    "# Number of reviews\n",
    "len(df) "
   ]
  },
  {
   "cell_type": "code",
   "execution_count": 15,
   "metadata": {},
   "outputs": [],
   "source": [
    "# Filtering only reviews that are positive\n",
    "df_positive = df[(df.Positive_Review != \"No Positive\") & (df.Review_Total_Negative_Word_Counts == 0)]"
   ]
  },
  {
   "cell_type": "code",
   "execution_count": 16,
   "metadata": {},
   "outputs": [
    {
     "data": {
      "text/plain": [
       "127630"
      ]
     },
     "execution_count": 16,
     "metadata": {},
     "output_type": "execute_result"
    }
   ],
   "source": [
    "# Number of positive reviews\n",
    "len(df_positive)"
   ]
  },
  {
   "cell_type": "code",
   "execution_count": 17,
   "metadata": {},
   "outputs": [
    {
     "data": {
      "text/plain": [
       "9.339746221380436"
      ]
     },
     "execution_count": 17,
     "metadata": {},
     "output_type": "execute_result"
    }
   ],
   "source": [
    "# Positive review mean\n",
    "df_positive.Reviewer_Score.mean() "
   ]
  },
  {
   "cell_type": "code",
   "execution_count": 18,
   "metadata": {},
   "outputs": [],
   "source": [
    "# Filtering only reviews that are negative\n",
    "df_negative = df[(df.Negative_Review != \"No Negative\") & (df.Review_Total_Positive_Word_Counts == 0)]"
   ]
  },
  {
   "cell_type": "code",
   "execution_count": 19,
   "metadata": {},
   "outputs": [
    {
     "data": {
      "text/plain": [
       "35777"
      ]
     },
     "execution_count": 19,
     "metadata": {},
     "output_type": "execute_result"
    }
   ],
   "source": [
    "# Number of negative reviews\n",
    "len(df_negative) "
   ]
  },
  {
   "cell_type": "code",
   "execution_count": 20,
   "metadata": {},
   "outputs": [
    {
     "data": {
      "text/plain": [
       "6.882390953720984"
      ]
     },
     "execution_count": 20,
     "metadata": {},
     "output_type": "execute_result"
    }
   ],
   "source": [
    "# Negative review mean\n",
    "df_negative.Reviewer_Score.mean() "
   ]
  },
  {
   "cell_type": "markdown",
   "metadata": {},
   "source": [
    "### 10 most positive nations (by given reviews)"
   ]
  },
  {
   "cell_type": "code",
   "execution_count": 21,
   "metadata": {
    "scrolled": true
   },
   "outputs": [
    {
     "data": {
      "text/plain": [
       "<matplotlib.axes._subplots.AxesSubplot at 0x27fa62bcc50>"
      ]
     },
     "execution_count": 21,
     "metadata": {},
     "output_type": "execute_result"
    },
    {
     "data": {
      "image/png": "[encoded data removed]",
      "text/plain": [
       "<matplotlib.figure.Figure at 0x27fa65043c8>"
      ]
     },
     "metadata": {},
     "output_type": "display_data"
    }
   ],
   "source": [
    "positive_reviewers = df_positive[\"Reviewer_Nationality\"].value_counts()[:10]\n",
    "\n",
    "positive_reviewers.sort_values().plot.barh(figsize=(20,5))"
   ]
  },
  {
   "cell_type": "markdown",
   "metadata": {},
   "source": [
    "### 10 most negative nations (by given reviews)"
   ]
  },
  {
   "cell_type": "code",
   "execution_count": 22,
   "metadata": {
    "scrolled": false
   },
   "outputs": [
    {
     "data": {
      "text/plain": [
       "<matplotlib.axes._subplots.AxesSubplot at 0x27fa696ff60>"
      ]
     },
     "execution_count": 22,
     "metadata": {},
     "output_type": "execute_result"
    },
    {
     "data": {
      "image/png": "[encoded data removed]",
      "text/plain": [
       "<matplotlib.figure.Figure at 0x27fa6aef400>"
      ]
     },
     "metadata": {},
     "output_type": "display_data"
    }
   ],
   "source": [
    "# Top 10 negative reviewer scores grouped by nationalities \n",
    "negative_reviewers = df_negative[\"Reviewer_Nationality\"].value_counts()[:10]\n",
    "\n",
    "negative_reviewers.sort_values().plot.barh(figsize=(20,5))"
   ]
  },
  {
   "cell_type": "markdown",
   "metadata": {},
   "source": [
    "### Reviews that were above average"
   ]
  },
  {
   "cell_type": "code",
   "execution_count": 23,
   "metadata": {
    "scrolled": true
   },
   "outputs": [
    {
     "data": {
      "text/plain": [
       "7.164895227595631"
      ]
     },
     "execution_count": 23,
     "metadata": {},
     "output_type": "execute_result"
    }
   ],
   "source": [
    "# Average number of given reviews\n",
    "df.Total_Number_of_Reviews_Reviewer_Has_Given.mean()"
   ]
  },
  {
   "cell_type": "code",
   "execution_count": 24,
   "metadata": {},
   "outputs": [],
   "source": [
    "reviewers_above_mean = df[df.Total_Number_of_Reviews_Reviewer_Has_Given > df.Total_Number_of_Reviews_Reviewer_Has_Given.mean()]"
   ]
  },
  {
   "cell_type": "code",
   "execution_count": 25,
   "metadata": {
    "scrolled": true
   },
   "outputs": [
    {
     "data": {
      "text/plain": [
       "143106"
      ]
     },
     "execution_count": 25,
     "metadata": {},
     "output_type": "execute_result"
    }
   ],
   "source": [
    "# Number of above average reviews\n",
    "len(reviewers_above_mean)"
   ]
  },
  {
   "cell_type": "markdown",
   "metadata": {},
   "source": [
    "### Separating above average reviews from nationalities where the reviewed Hotels are located"
   ]
  },
  {
   "cell_type": "code",
   "execution_count": 26,
   "metadata": {
    "scrolled": false
   },
   "outputs": [
    {
     "data": {
      "text/plain": [
       "Reviewer_Nationality\n",
       "United Kingdom    8.510245\n",
       "Spain             8.228687\n",
       "France            8.249621\n",
       "Netherlands       8.272332\n",
       "Austria           8.483729\n",
       "Italy             8.183345\n",
       "Name: Reviewer_Score, dtype: float64"
      ]
     },
     "execution_count": 26,
     "metadata": {},
     "output_type": "execute_result"
    }
   ],
   "source": [
    "nationalities_of_interest = ['United Kingdom', 'Spain', 'France', 'Netherlands', 'Austria', 'Italy']\n",
    "\n",
    "mean_scores_nationality = reviewers_above_mean.groupby(\"Reviewer_Nationality\")[\"Reviewer_Score\"].mean().sort_values(ascending=False)\n",
    "\n",
    "rev_score_positive_reviewers = mean_scores_nationality[nationalities_of_interest]\n",
    "\n",
    "rev_score_positive_reviewers"
   ]
  },
  {
   "cell_type": "markdown",
   "metadata": {
    "scrolled": true
   },
   "source": [
    "### Hotel Country Stats"
   ]
  },
  {
   "cell_type": "code",
   "execution_count": 27,
   "metadata": {
    "scrolled": true
   },
   "outputs": [
    {
     "data": {
      "image/png": "[encoded data removed]",
      "text/plain": [
       "<matplotlib.figure.Figure at 0x27fa8998d68>"
      ]
     },
     "metadata": {},
     "output_type": "display_data"
    }
   ],
   "source": [
    "df[\"Hotel_Country\"].value_counts().plot(kind='pie', autopct='%1.0f%%', title = \"Hotel Country Distribution\")\n",
    "\n",
    "plt.show()"
   ]
  },
  {
   "cell_type": "code",
   "execution_count": 28,
   "metadata": {},
   "outputs": [],
   "source": [
    "group_by_country = df.groupby(\"Hotel_Country\")\n",
    "\n",
    "positive_by_country = df_positive.groupby(\"Hotel_Country\")\n",
    "negative_by_country = df_negative.groupby(\"Hotel_Country\")"
   ]
  },
  {
   "cell_type": "code",
   "execution_count": 29,
   "metadata": {},
   "outputs": [],
   "source": [
    "average_rev = group_by_country.mean()['Average_Score']\n",
    "average_rev_score = group_by_country.mean()['Reviewer_Score']\n",
    "standard_deviation = group_by_country.std()['Reviewer_Score']\n",
    "\n",
    "positive_reviews = positive_by_country.count()['Positive_Review']\n",
    "negative_reviews = negative_by_country.count()['Negative_Review']"
   ]
  },
  {
   "cell_type": "code",
   "execution_count": 30,
   "metadata": {},
   "outputs": [],
   "source": [
    "average_rev.name = 'average_review'\n",
    "average_rev_score.name = 'average_score'\n",
    "standard_deviation.name = 'standard_deviation'\n",
    "positive_reviews.name = 'positive_reviews'\n",
    "negative_reviews.name = 'negative_reviews'"
   ]
  },
  {
   "cell_type": "code",
   "execution_count": 31,
   "metadata": {},
   "outputs": [],
   "source": [
    "Hotel_Country_Stats = pd.concat([average_rev_score, average_rev, standard_deviation, positive_reviews, negative_reviews], axis=1)"
   ]
  },
  {
   "cell_type": "code",
   "execution_count": 32,
   "metadata": {
    "scrolled": true
   },
   "outputs": [
    {
     "data": {
      "text/html": [
       "<div>\n",
       "<style scoped>\n",
       "    .dataframe tbody tr th:only-of-type {\n",
       "        vertical-align: middle;\n",
       "    }\n",
       "\n",
       "    .dataframe tbody tr th {\n",
       "        vertical-align: top;\n",
       "    }\n",
       "\n",
       "    .dataframe thead th {\n",
       "        text-align: right;\n",
       "    }\n",
       "</style>\n",
       "<table border=\"1\" class=\"dataframe\">\n",
       "  <thead>\n",
       "    <tr style=\"text-align: right;\">\n",
       "      <th></th>\n",
       "      <th>average_score</th>\n",
       "      <th>average_review</th>\n",
       "      <th>standard_deviation</th>\n",
       "      <th>positive_reviews</th>\n",
       "      <th>negative_reviews</th>\n",
       "    </tr>\n",
       "    <tr>\n",
       "      <th>Hotel_Country</th>\n",
       "      <th></th>\n",
       "      <th></th>\n",
       "      <th></th>\n",
       "      <th></th>\n",
       "      <th></th>\n",
       "    </tr>\n",
       "  </thead>\n",
       "  <tbody>\n",
       "    <tr>\n",
       "      <th>Spain</th>\n",
       "      <td>8.554092</td>\n",
       "      <td>8.522812</td>\n",
       "      <td>1.554202</td>\n",
       "      <td>15949</td>\n",
       "      <td>3549</td>\n",
       "    </tr>\n",
       "    <tr>\n",
       "      <th>Austria</th>\n",
       "      <td>8.545037</td>\n",
       "      <td>8.558050</td>\n",
       "      <td>1.511625</td>\n",
       "      <td>10840</td>\n",
       "      <td>2557</td>\n",
       "    </tr>\n",
       "    <tr>\n",
       "      <th>Netherlands</th>\n",
       "      <td>8.456231</td>\n",
       "      <td>8.387100</td>\n",
       "      <td>1.599051</td>\n",
       "      <td>14260</td>\n",
       "      <td>3800</td>\n",
       "    </tr>\n",
       "    <tr>\n",
       "      <th>France</th>\n",
       "      <td>8.424395</td>\n",
       "      <td>8.411583</td>\n",
       "      <td>1.652847</td>\n",
       "      <td>16480</td>\n",
       "      <td>3748</td>\n",
       "    </tr>\n",
       "    <tr>\n",
       "      <th>Italy</th>\n",
       "      <td>8.346678</td>\n",
       "      <td>8.426718</td>\n",
       "      <td>1.648622</td>\n",
       "      <td>9946</td>\n",
       "      <td>2553</td>\n",
       "    </tr>\n",
       "    <tr>\n",
       "      <th>United Kingdom</th>\n",
       "      <td>8.324130</td>\n",
       "      <td>8.340390</td>\n",
       "      <td>1.672142</td>\n",
       "      <td>60155</td>\n",
       "      <td>19570</td>\n",
       "    </tr>\n",
       "  </tbody>\n",
       "</table>\n",
       "</div>"
      ],
      "text/plain": [
       "                average_score  average_review  standard_deviation  \\\n",
       "Hotel_Country                                                       \n",
       "Spain                8.554092        8.522812            1.554202   \n",
       "Austria              8.545037        8.558050            1.511625   \n",
       "Netherlands          8.456231        8.387100            1.599051   \n",
       "France               8.424395        8.411583            1.652847   \n",
       "Italy                8.346678        8.426718            1.648622   \n",
       "United Kingdom       8.324130        8.340390            1.672142   \n",
       "\n",
       "                positive_reviews  negative_reviews  \n",
       "Hotel_Country                                       \n",
       "Spain                      15949              3549  \n",
       "Austria                    10840              2557  \n",
       "Netherlands                14260              3800  \n",
       "France                     16480              3748  \n",
       "Italy                       9946              2553  \n",
       "United Kingdom             60155             19570  "
      ]
     },
     "execution_count": 32,
     "metadata": {},
     "output_type": "execute_result"
    }
   ],
   "source": [
    "# Hotel Countries ranked by Reviewer Score and displaying the number of positive and negative reviews of their Hotels\n",
    "Hotel_Country_Stats.sort_values(by='average_score', ascending=False)"
   ]
  },
  {
   "cell_type": "markdown",
   "metadata": {},
   "source": [
    "### Comparing average Review Score of Hotels by their location Country and average Review Score of matching nationalities - checking for Country/Nationality Bias"
   ]
  },
  {
   "cell_type": "code",
   "execution_count": 33,
   "metadata": {},
   "outputs": [
    {
     "data": {
      "image/png": "[encoded data removed]",
      "text/plain": [
       "<matplotlib.figure.Figure at 0x27fa4ae88d0>"
      ]
     },
     "metadata": {},
     "output_type": "display_data"
    }
   ],
   "source": [
    "# Data sources\n",
    "\n",
    "n_groups = 6\n",
    "rev_score_hotel_countries = df.groupby(\"Hotel_Country\")[\"Reviewer_Score\"].mean().sort_values(ascending=False)\n",
    "rev_score_positive_reviewers\n",
    " \n",
    "# Plot settings\n",
    "fig, ax = plt.subplots()\n",
    "index = np.arange(n_groups)\n",
    "bar_width = 0.3\n",
    "opacity = 1.0\n",
    " \n",
    "bar1 = plt.bar(index, rev_score_hotel_countries, bar_width,\n",
    "                 alpha=opacity,\n",
    "                 color='b',\n",
    "                 label='Hotel_Country')\n",
    " \n",
    "bar2 = plt.bar(index + bar_width, rev_score_positive_reviewers, bar_width,\n",
    "                 alpha=opacity,\n",
    "                 color='g',\n",
    "                 label='Reviewer Nationality')\n",
    " \n",
    "plt.xlabel('Country')\n",
    "plt.ylabel('Reviewer Score')\n",
    "plt.title('Country/Nationality Bias')\n",
    "plt.xticks(index + bar_width, ('United Kingdom', 'Spain', 'France', 'Netherlands', 'Austria', 'Italy'))\n",
    "plt.legend()\n",
    " \n",
    "plt.tight_layout() # keeps the legend centered\n",
    "plt.show()"
   ]
  }
 ],
 "metadata": {
  "kernelspec": {
   "display_name": "Python 3",
   "language": "python",
   "name": "python3"
  },
  "language_info": {
   "codemirror_mode": {
    "name": "ipython",
    "version": 3
   },
   "file_extension": ".py",
   "mimetype": "text/x-python",
   "name": "python",
   "nbconvert_exporter": "python",
   "pygments_lexer": "ipython3",
   "version": "3.6.4"
  }
 },
 "nbformat": 4,
 "nbformat_minor": 2
}
